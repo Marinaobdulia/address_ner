{
 "cells": [
  {
   "cell_type": "code",
   "execution_count": 3,
   "metadata": {},
   "outputs": [],
   "source": [
    "import pandas as pd\n",
    "from sklearn.model_selection import train_test_split\n",
    "import spacy\n",
    "\n",
    "import random\n",
    "from spacy.util import minibatch, compounding\n",
    "from spacy.training.example import Example\n",
    "from pathlib import Path\n",
    "from ast import literal_eval\n",
    "from spacy.tokens import Doc, Span, Token"
   ]
  },
  {
   "cell_type": "raw",
   "metadata": {
    "vscode": {
     "languageId": "raw"
    }
   },
   "source": [
    "! python -m spacy download en_core_web_sm"
   ]
  },
  {
   "cell_type": "code",
   "execution_count": 33,
   "metadata": {},
   "outputs": [],
   "source": [
    "nlp = spacy.load('en_core_web_sm')\n",
    "\n",
    "ner = nlp.get_pipe('ner')\n",
    "\n",
    "for _,annotations in train:\n",
    "    for ent in annotations.get(\"entities\"):\n",
    "        ner.add_label(ent[2])\n",
    "\n",
    "pipe_exceptions = ['ner', 'trf_wordpiecer', 'trf_tok2vec']\n",
    "unaffected_pipe = [pipe for pipe in nlp.pipe_names if pipe not in pipe_exceptions]"
   ]
  },
  {
   "cell_type": "code",
   "execution_count": 32,
   "metadata": {},
   "outputs": [],
   "source": [
    "\n",
    "df = pd.read_csv('./data/train_set.csv', sep = ';', encoding = 'utf-8-sig')\n",
    "\n",
    "lista = df['entidades'].to_list()\n",
    "lista = [literal_eval(x) for x in lista]\n",
    "\n",
    "train, test = train_test_split(lista, test_size=0.25, random_state=8)"
   ]
  },
  {
   "cell_type": "code",
   "execution_count": null,
   "metadata": {},
   "outputs": [],
   "source": [
    "nr_iter = 10\n",
    "\n",
    "with nlp.disable_pipes(*unaffected_pipe):\n",
    "    for iteration in range(nr_iter):\n",
    "        random.shuffle(train)\n",
    "        losses = {}\n",
    "\n",
    "        batches = minibatch(train, size=8)\n",
    "        for batch in batches:\n",
    "            example = []\n",
    "            for text, annotations in batch:\n",
    "                doc = nlp.make_doc(text)\n",
    "                example.append(Example.from_dict(doc, annotations))\n",
    "\n",
    "            nlp.update(example, drop = 0.3, losses=losses)\n",
    "\n",
    "        print(f\"Iteration {iteration} - Losses: {losses}\")\n"
   ]
  },
  {
   "cell_type": "code",
   "execution_count": null,
   "metadata": {},
   "outputs": [],
   "source": [
    "# Test the model\n",
    "test_text = \"CALLE SIMCA 8, 3B\"\n",
    "doc = nlp(test_text)\n",
    "\n",
    "print(\"Entities:\", [(ent.text, ent.label_) for ent in doc.ents])"
   ]
  }
 ],
 "metadata": {
  "kernelspec": {
   "display_name": "onering",
   "language": "python",
   "name": "python3"
  },
  "language_info": {
   "codemirror_mode": {
    "name": "ipython",
    "version": 3
   },
   "file_extension": ".py",
   "mimetype": "text/x-python",
   "name": "python",
   "nbconvert_exporter": "python",
   "pygments_lexer": "ipython3",
   "version": "3.9.0"
  }
 },
 "nbformat": 4,
 "nbformat_minor": 2
}
